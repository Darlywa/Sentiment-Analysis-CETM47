{
  "nbformat": 4,
  "nbformat_minor": 0,
  "metadata": {
    "colab": {
      "provenance": [],
      "authorship_tag": "ABX9TyOWW1iESY6C0AwIYlqwkAS8",
      "include_colab_link": true
    },
    "kernelspec": {
      "name": "python3",
      "display_name": "Python 3"
    },
    "language_info": {
      "name": "python"
    }
  },
  "cells": [
    {
      "cell_type": "markdown",
      "metadata": {
        "id": "view-in-github",
        "colab_type": "text"
      },
      "source": [
        "<a href=\"https://colab.research.google.com/github/Darlywa/demo-repo/blob/main/cetm47_workshop4.ipynb\" target=\"_parent\"><img src=\"https://colab.research.google.com/assets/colab-badge.svg\" alt=\"Open In Colab\"/></a>"
      ]
    },
    {
      "cell_type": "code",
      "execution_count": 2,
      "metadata": {
        "id": "wsagxp-EnEmy"
      },
      "outputs": [],
      "source": [
        "#Import required libraries\n",
        "import numpy as np\n",
        "import pandas as pd\n",
        "import nltk\n",
        "import matplotlib.pyplot as plt\n",
        "import seaborn as sns\n",
        "import re\n",
        "from sklearn.model_selection import train_test_split\n",
        "from nltk.corpus import stopwords\n",
        "from sklearn.model_selection import KFold\n",
        "from google.colab import drive\n",
        "from sklearn.feature_extraction.text import CountVectorizer\n",
        "from sklearn.linear_model import LogisticRegression\n",
        "from sklearn.naive_bayes import GaussianNB\n",
        "from sklearn import metrics\n",
        "from nltk.corpus import brown"
      ]
    },
    {
      "cell_type": "code",
      "source": [
        "#Download \n",
        "nltk.download(\"stopwords\")"
      ],
      "metadata": {
        "colab": {
          "base_uri": "https://localhost:8080/"
        },
        "id": "PGgVpMeknr-7",
        "outputId": "ec09c53e-0255-4f31-fa82-a197ef55c763"
      },
      "execution_count": null,
      "outputs": [
        {
          "output_type": "stream",
          "name": "stderr",
          "text": [
            "[nltk_data] Downloading package stopwords to /root/nltk_data...\n",
            "[nltk_data]   Unzipping corpora/stopwords.zip.\n"
          ]
        },
        {
          "output_type": "execute_result",
          "data": {
            "text/plain": [
              "True"
            ]
          },
          "metadata": {},
          "execution_count": 3
        }
      ]
    },
    {
      "cell_type": "code",
      "source": [
        "def read_data(path):\n",
        "  \"\"\"The function reads in data, separate the labels and the input message and convert the labels to numeric values\n",
        "  Parameters\n",
        "  ==========\n",
        "  Input: str data path\n",
        "\n",
        "  Return\n",
        "  ======\n",
        "  Output: labels: pd.Series, input_message: pd.Series\n",
        "  \"\"\"\n",
        "  data = pd.read_csv(path)\n",
        "\n",
        "  #separate the input_message and the labels\n",
        "  labels = data[\"Category\"]\n",
        "\n",
        "  #Convert the labels to numeric values\n",
        "  key_dict = {\"spam\": 0, \"ham\": 1}\n",
        "  labels = labels.replace(key_dict)\n",
        "\n",
        "  #Extract the input message\n",
        "  input_message = data[\"Message\"]\n",
        "\n",
        "  return labels, input_message\n"
      ],
      "metadata": {
        "id": "N6NQuQb0uW6B"
      },
      "execution_count": null,
      "outputs": []
    },
    {
      "cell_type": "code",
      "source": [
        "def data_cleaning_func(x_data):\n",
        "  \"\"\"The function prunes an input data of stop words, and all punctuations.\n",
        "\n",
        "  Library required:\n",
        "  ================\n",
        "  import nltk\n",
        "  nltk.download(\"stopwords\")\n",
        "  from nltk.corpus import stopwords\n",
        "\n",
        "  Parameter:\n",
        "  =========\n",
        "  Input: pd.Series.\n",
        "\n",
        "  Returns:\n",
        "  =======\n",
        "  Output: list.\n",
        "  \"\"\"\n",
        "  #Extract the stopwords\n",
        "  stop_words = set(stopwords.words(\"english\"))\n",
        "\n",
        "  #Convert the word charaters to low characters\n",
        "  x_data = [item.lower() for item in x_data.to_list()]\n",
        "\n",
        "  cleaned_message = []\n",
        "  for sentence in x_data:\n",
        "    filtered_sentence = \"\"\n",
        "    for w in sentence:\n",
        "\n",
        "      #Check if the word is in stop_words\n",
        "      if w not in stop_words:\n",
        "\n",
        "        #if is false, remove all punctuations from that word\n",
        "        punc_removed_sentence = re.sub(r'[^\\w\\s]', '', w)\n",
        "\n",
        "        #Add the filtered word to the empty string\n",
        "        filtered_sentence = filtered_sentence + punc_removed_sentence\n",
        "      \n",
        "    #Append the filtered sentence to the cleaned message\n",
        "    cleaned_message.append(filtered_sentence)\n",
        "  return cleaned_message"
      ],
      "metadata": {
        "id": "-sDVOsQhpXRd"
      },
      "execution_count": null,
      "outputs": []
    },
    {
      "cell_type": "code",
      "source": [
        "def vet_split_func(cleaned_message, labels, max_feature=0, use_max_features=False, test_size=0.3, shuffle = False):\n",
        "  \"\"\"The function accepts clean data, vectoriizer the data and split it using train_test_split function.\n",
        "\n",
        "  Parameters\n",
        "  ==========\n",
        "  Input: cleaned_message:list, labels:np.ndarrays, test_size:float - default value (0.3), \n",
        "  shuffle: Boolean - default (False), max_feature: int\n",
        "\n",
        "  Return\n",
        "  ======\n",
        "  Output: X_train:np.ndarrays, X_test:np.ndarrays, y_train:np.ndarrays, y_test:np.ndarrays\n",
        "\n",
        "  \"\"\"\n",
        "  #Instantiate the object\n",
        "  if use_max_features:\n",
        "    count_vector = CountVectorizer(max_features=max_feature)\n",
        "  else:\n",
        "    count_vector = CountVectorizer()\n",
        "\n",
        "  #Fit and transform the cleaned_input_data.\n",
        "  X = count_vector.fit_transform(cleaned_message).toarray()\n",
        "\n",
        "  #Convert the labels to ndarrays\n",
        "  y = np.array(labels)\n",
        "\n",
        "  #Split the data\n",
        "  if shuffle:\n",
        "    X_train, X_test, y_train, y_test = train_test_split(X, y, test_size=test_size, shuffle = shuffle, random_state = 42)\n",
        "  else:\n",
        "    X_train, X_test, y_train, y_test = train_test_split(X, y, test_size=test_size, shuffle = shuffle)\n",
        "  \n",
        "  return X_train, X_test, y_train, y_test"
      ],
      "metadata": {
        "id": "y07rHgOupZvO"
      },
      "execution_count": null,
      "outputs": []
    },
    {
      "cell_type": "code",
      "source": [
        "def model_performance(model_dict):\n",
        "  \"\"\"The function trains the model, makes predictions and evaluate the accuracy score\n",
        "\n",
        "  Parameter\n",
        "  =========\n",
        "  Input: dict\n",
        "\n",
        "  Return\n",
        "  ======\n",
        "  Output: dict containing the model initial and its accuracy score.\n",
        "  \"\"\"\n",
        "  accuracy_score = {}\n",
        "  trained_model_dict = {}\n",
        "  for model_name, model_instantiation in model_dict.items():\n",
        "    model = model_instantiation\n",
        "\n",
        "    #fit the model\n",
        "    trained_model = model.fit(X_train, y_train)\n",
        "    trained_model_dict[model_name] = trained_model\n",
        "\n",
        "    #Make prediction\n",
        "    y_pred = trained_model.predict(X_test)\n",
        "\n",
        "    #Evaluate the model\n",
        "    accuracy_score[model_name] = round(metrics.accuracy_score(y_test, y_pred), 3)\n",
        "\n",
        "  return accuracy_score, trained_model_dict"
      ],
      "metadata": {
        "id": "HRUFyk3splHE"
      },
      "execution_count": 38,
      "outputs": []
    },
    {
      "cell_type": "code",
      "source": [
        "def kfold_model_performance(model_dict, input_data, labels, test_size=0.001, k=5, shuffle=False):\n",
        "  \"\"\"Function that evaluates models performance using kfold cross validation\n",
        "  \n",
        "  Parameters\n",
        "  ==========\n",
        "  Input: model_dict: dictionary, input_data: pd.Series, labels: pd.Series, test_size: float = 0.001, \n",
        "  k: int =5, shuffle: boolean = False, split_shuffle: boolean = False\n",
        "\n",
        "  Return\n",
        "  ======\n",
        "  Output: Accuracy score: dict\n",
        "  \"\"\"\n",
        "  #split the data set without shuffle. NB: I am not keeping any test data, rather all the data will be splited by kFold\n",
        "  X_train, X_test, y_train, y_test = vet_split_func(cleaned_message=input_data, labels=labels, test_size = test_size, shuffle=shuffle)\n",
        "\n",
        "  #Instantiate the KFold. The default state of shuffle is False\n",
        "  kf = KFold(n_splits = k)\n",
        "\n",
        "  dict_score = {}\n",
        "  for model_name, model_instantiation in model_dict.items():\n",
        "    result = []\n",
        "\n",
        "    #Obtain the train indices and the test indices\n",
        "    for train_index, test_index in kf.split(X_train, y_train):\n",
        "      X_train_fold = X_train[train_index]\n",
        "      y_train_fold = y_train[train_index]\n",
        "      X_test_fold = X_train[test_index]\n",
        "      y_test_fold = y_train[test_index]\n",
        "\n",
        "      #Instantiate the model\n",
        "      model_object = model_instantiation\n",
        "\n",
        "      #fit the model\n",
        "      model_object.fit(X_train_fold, y_train_fold)\n",
        "\n",
        "      #predict\n",
        "      y_pred_fold = model_object.predict(X_test_fold)\n",
        "\n",
        "      #Evaluate the score\n",
        "      score = (sum(y_test_fold == y_pred_fold)/len(y_pred_fold))\n",
        "\n",
        "      #Attach the score to the dictionary\n",
        "      result.append(round(score, 3))\n",
        "\n",
        "    #Attach the result to dict\n",
        "    dict_score[model_name] = result\n",
        "    result = []\n",
        "  return dict_score"
      ],
      "metadata": {
        "id": "YQIgqJLeqGAn"
      },
      "execution_count": 80,
      "outputs": []
    },
    {
      "cell_type": "code",
      "source": [
        "def average_kfold_result(collated_result):\n",
        "  \"\"\"The function average the kfold result per model per split value\n",
        "  Parameter\n",
        "  =========\n",
        "  Input: The general result obtained from multiple k-iteration\n",
        "\n",
        "  Return\n",
        "  ======\n",
        "  Output: A list of dictionary showing the average performance for k in each model\n",
        "  \"\"\"\n",
        "  result = []\n",
        "  for d in collated_result:\n",
        "    mean_dict = {}\n",
        "    for i in d.keys():\n",
        "      mean_dict[i] = round(sum(d[i])/len(d[i]), 3)\n",
        "    result.append(mean_dict)\n",
        "  return result"
      ],
      "metadata": {
        "id": "8GK7Gj4YqR8z"
      },
      "execution_count": 97,
      "outputs": []
    },
    {
      "cell_type": "code",
      "source": [
        "print(\"Solutions to Workshop 4 Exercises - Author: Ifeanyi Emeagi\")\n",
        "print(\"===========================================================\")"
      ],
      "metadata": {
        "colab": {
          "base_uri": "https://localhost:8080/"
        },
        "id": "_WjVWvJVqf0a",
        "outputId": "847d8cf5-de8d-4fc7-e71c-bdc69109aeb6"
      },
      "execution_count": null,
      "outputs": [
        {
          "output_type": "stream",
          "name": "stdout",
          "text": [
            "Solutions to Workshop 4 Exercises - Author: Ifeanyi Emeagi\n",
            "===========================================================\n"
          ]
        }
      ]
    },
    {
      "cell_type": "code",
      "source": [
        "#Mount my google drive\n",
        "drive.mount('/content/drive/')"
      ],
      "metadata": {
        "colab": {
          "base_uri": "https://localhost:8080/"
        },
        "id": "MHNgaxtcrE6w",
        "outputId": "544071d0-ab7e-44a2-8456-1e4b28f7b31e"
      },
      "execution_count": null,
      "outputs": [
        {
          "output_type": "stream",
          "name": "stdout",
          "text": [
            "Mounted at /content/drive/\n"
          ]
        }
      ]
    },
    {
      "cell_type": "code",
      "source": [
        "print(\"Exercise 1-4: Read the csv file, convert the labels to numeric values, lower the input characters, remove stop words and all punctuations. \\n\")\n",
        "\n",
        "#Reads in the data, separate the labels and the input message and convert the labels to numbers\n",
        "data_path = \"/content/drive/My Drive/Colab Notebooks/SMSData.csv\"\n",
        "labels, input_message = read_data(data_path)\n",
        "\n",
        "#Clean the input_message\n",
        "cleaned_message = data_cleaning_func(input_message)\n",
        "\n",
        "#print 3 lines in the cleaned message\n",
        "print(\"Sample of cleaned message: \", cleaned_message[:3])\n",
        "print()\n",
        "print(\"Sample of labels: \", labels.to_list()[:3])\n",
        "print(\"From the labels values, this is a binary classification problem.\")\n"
      ],
      "metadata": {
        "colab": {
          "base_uri": "https://localhost:8080/"
        },
        "id": "gngpeCyZra1K",
        "outputId": "51bd21e2-d08e-4c91-a22a-dbbe003a3910"
      },
      "execution_count": null,
      "outputs": [
        {
          "output_type": "stream",
          "name": "stdout",
          "text": [
            "Exercise 1-4: Read the csv file, convert the labels to numeric values, lower the input characters, remove stop words and all punctuatios. \n",
            "\n",
            "Sample of cleaned message:  ['g unl jurng pn crz vlble nl n bug n gre wrl l e buffe cne here g re w', 'k lr jkng wf u n', 'free enr n 2  wkl cp  wn f cup fnl k 21  2005 ex f  87121  receve enr quen x rec ppl 08452810075ver18']\n",
            "\n",
            "Sample of labels:  [1, 1, 0]\n",
            "From the labels values, this is a binary classification problem.\n"
          ]
        }
      ]
    },
    {
      "cell_type": "code",
      "source": [
        "print(\"Exercise 5-10: Convert the input message to bag of words rep., split the data set, (no shuffle), \\n train NB model and make prediction use same model to predict the y_train and share your observation \\n\")\n",
        "\n",
        "#Convert the input_message into bow rep and split the data (no shuffle):\n",
        "X_train, X_test, y_train, y_test = vet_split_func(cleaned_message, labels)\n",
        "\n",
        "#Train the NB model, make prediction and evaluate the score\n",
        "model_dict = {\"NB\": GaussianNB()}\n",
        "accuracy_score, model = model_performance(model_dict)\n",
        "\n",
        "print(f\"The model accuracy score: {accuracy_score}\\n\")\n",
        "\n",
        "#Use that same predicts the train data set.\n",
        "y_train_pred = model[\"NB\"].predict(X_train)\n",
        "\n",
        "#Calclate the accuracy\n",
        "train_pred_acc = round((sum(y_train == y_train_pred))/len(y_train), 3)\n",
        "print(\"The predicted train accuracy: \", train_pred_acc)\n"
      ],
      "metadata": {
        "colab": {
          "base_uri": "https://localhost:8080/"
        },
        "id": "W2g6CwNJw-jW",
        "outputId": "141295e3-9e50-480e-f6e4-36ee7b040fe7"
      },
      "execution_count": 39,
      "outputs": [
        {
          "output_type": "stream",
          "name": "stdout",
          "text": [
            "Exercise 5-10: Convert the input message to bag of words rep., split the data set, (no shuffle), \n",
            " train NB model and make prediction use same model to predict the y_train and share your observation \n",
            "\n",
            "The model accuracy score: {'NB': 0.718}\n",
            "\n",
            "The predicted train accuracy:  0.791\n"
          ]
        }
      ]
    },
    {
      "cell_type": "markdown",
      "source": [
        "Observation:\n",
        "1. The train set accuracy score is higher than the test set accuracy score.\n",
        "\n",
        "2. I expect the accuracy score of the train set to be higher because, the model is predicting same data that was used to trained it. Thus, is likely to overfit and shoot up the accuracy score.\n",
        "\n",
        "3. The test set accuracy score is more likely to be the score of a real world data. The because the model has not seen the data before which makes it close to real world data."
      ],
      "metadata": {
        "id": "SlXvcxT5_T_G"
      }
    },
    {
      "cell_type": "code",
      "source": [
        "print(\"Exercise 11: Calculate the percentage of spam to no spam labels in the train set \\n\")\n",
        "\n",
        "unique, counts = np.unique(y_train, return_counts=True)\n",
        "percentage_of_spam = (counts[0]/(counts[0] + counts[1])) *100\n",
        "print(f\"The percentage of spam to no-spam labels in train set: {round(percentage_of_spam, 3)}\")"
      ],
      "metadata": {
        "colab": {
          "base_uri": "https://localhost:8080/"
        },
        "id": "JENv2Xo-6wSV",
        "outputId": "3736023e-07eb-44aa-c165-672d2382877c"
      },
      "execution_count": 37,
      "outputs": [
        {
          "output_type": "stream",
          "name": "stdout",
          "text": [
            "Exercise 11: Calculate the percentage of spam to no spam labels in the train set \n",
            "\n",
            "The percentage of spam to no-spam labels in train set: 13.308\n"
          ]
        }
      ]
    },
    {
      "cell_type": "markdown",
      "source": [
        "The ratio of spam to no spam labels is low and this means that the dataset is imbalance and is likely to skew the model prediction to the direction of no-spam. The disadvantage with this model is that is likely to wrongly classify spam. "
      ],
      "metadata": {
        "id": "0Ior94EkCEqp"
      }
    },
    {
      "cell_type": "code",
      "source": [
        "print(\"Exercise 12: create a model: Logistic regression, compare its performance with NB model \\n\")\n",
        "models_dict = {\"NB\": GaussianNB(), \"lgReg\": LogisticRegression()}\n",
        "\n",
        "models_accuracy_scores, _ = model_performance(models_dict)\n",
        "print(\"The accuracy score of the two models are: \", models_accuracy_scores )\n",
        "\n",
        "#Vizualise the comparison \n",
        "df_model_acc = pd.DataFrame(models_accuracy_scores, index=[0])\n",
        "df_model_acc.index.name = \"index\"\n",
        "df_model_acc.plot.bar(rot=0)\n",
        "plt.xlabel(\"Model\")\n",
        "plt.ylabel(\"Accuracy score\")\n",
        "plt.title(\"The Comparism between NB and LgReg Performance\");"
      ],
      "metadata": {
        "id": "Bz18HERSBSaV",
        "colab": {
          "base_uri": "https://localhost:8080/",
          "height": 347
        },
        "outputId": "31ef1942-b5b8-4408-8c25-ca4ca9141e00"
      },
      "execution_count": 73,
      "outputs": [
        {
          "output_type": "stream",
          "name": "stdout",
          "text": [
            "Exercise 12: create a model: Logistic regression, compare its performance with NB model \n",
            "\n",
            "The accuracy score of the two models are:  {'NB': 0.718, 'lgReg': 0.972}\n"
          ]
        },
        {
          "output_type": "display_data",
          "data": {
            "text/plain": [
              "<Figure size 432x288 with 1 Axes>"
            ],
            "image/png": "[encoded data removed]"
          },
          "metadata": {
            "needs_background": "light"
          }
        }
      ]
    },
    {
      "cell_type": "markdown",
      "source": [
        "The Logistic Regressor performs better than the Naive Bayes classifier."
      ],
      "metadata": {
        "id": "HCL-XhpRcRYP"
      }
    },
    {
      "cell_type": "code",
      "source": [
        "print(\"Exercise 13: Retrain the two models but with shuffled data and see if it affected their performance \\n\")\n",
        "\n",
        "#Get shuffled split data\n",
        "X_train, X_test, y_train, y_test = vet_split_func(cleaned_message, labels, shuffle = True) \n",
        "\n",
        "data_shuffled_models_scores, _ = model_performance(models_dict)\n",
        "print(\"The accuracy score of the two models when data is shuffled are: \", data_shuffled_models_scores )\n",
        "\n",
        "#Vizualise the comparison \n",
        "df_model_acc = pd.DataFrame(data_shuffled_models_scores, index=[0])\n",
        "df_model_acc.index.name = \"index\"\n",
        "df_model_acc.plot.bar(rot=0)\n",
        "plt.xlabel(\"Model\")\n",
        "plt.ylabel(\"Accuracy score\")\n",
        "plt.title(\"The Comparism between NB and LgReg Performance when data is shuffled\");"
      ],
      "metadata": {
        "colab": {
          "base_uri": "https://localhost:8080/",
          "height": 347
        },
        "id": "zcmtuZ2RVvRp",
        "outputId": "efcd43b3-6454-41ba-deee-fc836be3f172"
      },
      "execution_count": 75,
      "outputs": [
        {
          "output_type": "stream",
          "name": "stdout",
          "text": [
            "Exercise 13: Retrain the two models but with shuffled data and see if affected their performance \n",
            "\n",
            "The accuracy score of the two models when data is shuffled are:  {'NB': 0.711, 'lgReg': 0.977}\n"
          ]
        },
        {
          "output_type": "display_data",
          "data": {
            "text/plain": [
              "<Figure size 432x288 with 1 Axes>"
            ],
            "image/png": "[encoded data removed]"
          },
          "metadata": {
            "needs_background": "light"
          }
        }
      ]
    },
    {
      "cell_type": "markdown",
      "source": [
        "The effect is not significant. Maybe the position of the sentences have little effect on the models in deciding whether the sentence is a spam or not."
      ],
      "metadata": {
        "id": "UqEth5rFfnsa"
      }
    },
    {
      "cell_type": "code",
      "source": [
        "print(\"Exercise 14: For both models perform kfold cross validation, set shuffle true and false, compare the average performance of each model when shuffle is true and false. \\n\")\n",
        "\n",
        "#Kfold performance without shuffle\n",
        "kfold_scores_noshuffle = kfold_model_performance(models_dict, cleaned_message, labels)\n",
        "print(\"The kfold accuracy scores without shuffled data: \", kfold_scores_noshuffle)\n",
        "print()\n",
        "\n",
        "#Kfold performance with shuffle\n",
        "kfold_scores_shuffle = kfold_model_performance(models_dict, cleaned_message, labels, shuffle= True)\n",
        "print(\"The kfold accuracy scores with shuffled data: \", kfold_scores_shuffle)\n",
        "\n",
        "#Visualization\n",
        "#preprocess the data\n",
        "df_kfold_noshuffle = pd.DataFrame(kfold_scores_noshuffle)\n",
        "\n",
        "#Visualize the performance variation in each stage during cross validation\n",
        "df_kfold_noshuffle.plot.bar(rot=0, subplots = True)\n",
        "plt.xlabel(\"Kfold Cross Validation\")\n",
        "plt.ylabel(\"Accuracy Score\")\n",
        "plt.title(\"The model kfold performance variation without Shuffle\")\n",
        "\n",
        "#Shuffle variation\n",
        "df_kfold_shuffle = pd.DataFrame(kfold_scores_shuffle)\n",
        "df_kfold_shuffle.plot.bar(rot=0, subplots = True)\n",
        "plt.xlabel(\"Kfold Cross Validation\")\n",
        "plt.ylabel(\"Accuracy Score\")\n",
        "plt.title(\"The model kfold performance variation with Shuffle\")\n",
        "\n",
        "#Add identity\n",
        "df_kfold_noshuffle[\"identity\"] = \"noshuffle\"\n",
        "df_kfold_shuffle[\"identity\"] = \"shuffle\"\n",
        "\n",
        "#concat the two df\n",
        "df_kfold = pd.concat([df_kfold_shuffle, df_kfold_noshuffle])\n",
        "\n",
        "#Reshape the dataframe\n",
        "df_kfold_reshape = pd.melt(df_kfold, id_vars = \"identity\", var_name = \"Model\", value_name =\"Accuracy\" )\n",
        "#print(df_kfold)\n",
        "#df_kfold_reshape\n",
        "\n",
        "fig, ax = plt.subplots(figsize=(10,6))\n",
        "sns.barplot(x=\"Model\", y=\"Accuracy\", hue = \"identity\", data = df_kfold_reshape)\n",
        "plt.xlabel(\"Models\")\n",
        "plt.ylabel(\"Average Accuracy Score\")\n",
        "plt.title(\"Average performance of each Model when shuffle and noshuffle\");\n"
      ],
      "metadata": {
        "colab": {
          "base_uri": "https://localhost:8080/",
          "height": 1000
        },
        "id": "eRRyuBmfWItE",
        "outputId": "9a3aa9a5-b3ce-479b-f5ae-3c4f5f8cef6e"
      },
      "execution_count": 87,
      "outputs": [
        {
          "output_type": "stream",
          "name": "stdout",
          "text": [
            "Exercise 14: For both models perform kfold cross validation, set shuffle true and false, compare the average performance of each model when shuffle is true and false. \n",
            "\n",
            "The kfold accuracy scores without shuffled data:  {'NB': [0.724, 0.724, 0.691, 0.708, 0.714], 'lgReg': [0.972, 0.974, 0.978, 0.969, 0.976]}\n",
            "\n",
            "The kfold accuracy scores with shuffled data:  {'NB': [0.695, 0.706, 0.722, 0.703, 0.739], 'lgReg': [0.977, 0.978, 0.98, 0.966, 0.972]}\n"
          ]
        },
        {
          "output_type": "display_data",
          "data": {
            "text/plain": [
              "<Figure size 432x288 with 2 Axes>"
            ],
            "image/png": "[encoded data removed]"
          },
          "metadata": {
            "needs_background": "light"
          }
        },
        {
          "output_type": "display_data",
          "data": {
            "text/plain": [
              "<Figure size 432x288 with 2 Axes>"
            ],
            "image/png": "[encoded data removed]"
          },
          "metadata": {
            "needs_background": "light"
          }
        },
        {
          "output_type": "display_data",
          "data": {
            "text/plain": [
              "<Figure size 720x432 with 1 Axes>"
            ],
            "image/png": "[encoded data removed]"
          },
          "metadata": {
            "needs_background": "light"
          }
        }
      ]
    },
    {
      "cell_type": "markdown",
      "source": [
        "From graphies above, there are slight variation across both models during validation at each stage. Also, the shuffle has little impact on the average performance of each model during kfold cross validation."
      ],
      "metadata": {
        "id": "AK39viSIqA-Y"
      }
    },
    {
      "cell_type": "code",
      "source": [
        "print(\"Exercise 14 (5) Alter the values of k and observe the effect on both models performance.\\n\")\n",
        "k_range = list(range(2,16,3))\n",
        "collated_result = []\n",
        "for k in k_range:\n",
        "  kfold_result_k = kfold_model_performance(models_dict, cleaned_message, labels, k=k, shuffle=True)\n",
        "  collated_result.append(kfold_result_k)\n",
        "print(collated_result)"
      ],
      "metadata": {
        "colab": {
          "base_uri": "https://localhost:8080/"
        },
        "id": "aZ0jd_mfsG7X",
        "outputId": "a03ff881-c6cd-4786-8cde-37ecfa75c02c"
      },
      "execution_count": 93,
      "outputs": [
        {
          "output_type": "stream",
          "name": "stdout",
          "text": [
            "Exercise 14 (5) Alter the values of k and observe the effect on both models performance.\n",
            "\n",
            "[{'NB': [0.74, 0.746], 'lgReg': [0.973, 0.964]}, {'NB': [0.695, 0.706, 0.722, 0.703, 0.739], 'lgReg': [0.977, 0.978, 0.98, 0.966, 0.972]}, {'NB': [0.688, 0.687, 0.7, 0.73, 0.704, 0.691, 0.714, 0.734], 'lgReg': [0.977, 0.977, 0.986, 0.978, 0.98, 0.963, 0.98, 0.967]}, {'NB': [0.692, 0.686, 0.692, 0.692, 0.729, 0.719, 0.696, 0.666, 0.688, 0.743, 0.733], 'lgReg': [0.986, 0.97, 0.974, 0.988, 0.976, 0.986, 0.974, 0.964, 0.974, 0.982, 0.968]}, {'NB': [0.678, 0.698, 0.683, 0.693, 0.683, 0.729, 0.719, 0.721, 0.69, 0.678, 0.678, 0.72, 0.753, 0.733], 'lgReg': [0.985, 0.97, 0.98, 0.98, 0.99, 0.982, 0.98, 0.982, 0.967, 0.967, 0.972, 0.985, 0.98, 0.962]}]\n"
          ]
        }
      ]
    },
    {
      "cell_type": "code",
      "source": [
        "#Visualize the result\n",
        "#Average the result per k\n",
        "average_result_kvalues = average_kfold_result(collated_result)\n",
        "print(average_result_kvalues)\n",
        "\n",
        "df_result = pd.DataFrame(average_result_kvalues)\n",
        "\n",
        "#Name the Index K\n",
        "df_result.index.name = \"K\"\n",
        "\n",
        "#Reset_index\n",
        "df_result = df_result.reset_index()\n",
        "\n",
        "#Replace K with\n",
        "replace_k = {0:2, 1:5, 2:8, 3: 11, 4: 14}\n",
        "df_result[\"K\"] = df_result[\"K\"].replace(replace_k)\n",
        "\n",
        "#Reshape the df\n",
        "df = pd.melt(df_result, id_vars=\"K\", var_name=\"Model\", value_name=\"Average_Accuracy\")\n",
        "\n",
        "#graph\n",
        "fig, ax = plt.subplots(figsize=(15,6))\n",
        "sns.barplot(x=\"Model\", y=\"Average_Accuracy\", hue = \"K\", data = df)\n",
        "plt.xlabel(\"Models\")\n",
        "plt.ylabel(\"Average Accuracy Score\")\n",
        "plt.title(\"Average Model Performance on multiple K-Values\")\n",
        "plt.legend(loc=\"upper left\");"
      ],
      "metadata": {
        "colab": {
          "base_uri": "https://localhost:8080/",
          "height": 421
        },
        "id": "W9O3WQRXzTr0",
        "outputId": "7c0a25de-4a9e-4be7-c1d1-442433a31311"
      },
      "execution_count": 98,
      "outputs": [
        {
          "output_type": "stream",
          "name": "stdout",
          "text": [
            "[{'NB': 0.743, 'lgReg': 0.968}, {'NB': 0.713, 'lgReg': 0.975}, {'NB': 0.706, 'lgReg': 0.976}, {'NB': 0.703, 'lgReg': 0.977}, {'NB': 0.704, 'lgReg': 0.977}]\n"
          ]
        },
        {
          "output_type": "display_data",
          "data": {
            "text/plain": [
              "<Figure size 1080x432 with 1 Axes>"
            ],
            "image/png": "[encoded data removed]"
          },
          "metadata": {
            "needs_background": "light"
          }
        }
      ]
    },
    {
      "cell_type": "code",
      "source": [
        "print(\"Exercise 15: Turn on the max_features in CountVectorizer and alter the value downward to observe the effect on both models \")\n",
        "\n",
        "#The max_feature number is 5253\n",
        "\n",
        "max_features = list(range(5253, 1, -1000))\n",
        "print(max_features)\n",
        "max_features_result_sheet = {}\n",
        "for max_feature in max_features:\n",
        "  #Split the vectoriized data with max_feature set to True\n",
        "  X_train, X_test, y_train, y_test = vet_split_func(cleaned_message, labels, max_feature=max_feature, use_max_features=True)\n",
        "\n",
        "  #Instantiate the model\n",
        "  scores, _ = model_performance(models_dict)\n",
        "\n",
        "  max_features_result_sheet[max_feature] = scores\n",
        "max_features_result_sheet"
      ],
      "metadata": {
        "colab": {
          "base_uri": "https://localhost:8080/"
        },
        "id": "_rz8M8gnYeje",
        "outputId": "b4f67501-7f6b-4c17-e242-2e6dd2880cf4"
      },
      "execution_count": 100,
      "outputs": [
        {
          "output_type": "stream",
          "name": "stdout",
          "text": [
            "Exercise 15: Turn on the max_features in CountVectorizer and alter the value downward to observe the effect on both models \n",
            "[5253, 4253, 3253, 2253, 1253, 253]\n"
          ]
        },
        {
          "output_type": "execute_result",
          "data": {
            "text/plain": [
              "{5253: {'NB': 0.718, 'lgReg': 0.972},\n",
              " 4253: {'NB': 0.718, 'lgReg': 0.973},\n",
              " 3253: {'NB': 0.718, 'lgReg': 0.973},\n",
              " 2253: {'NB': 0.714, 'lgReg': 0.974},\n",
              " 1253: {'NB': 0.676, 'lgReg': 0.974},\n",
              " 253: {'NB': 0.518, 'lgReg': 0.971}}"
            ]
          },
          "metadata": {},
          "execution_count": 100
        }
      ]
    },
    {
      "cell_type": "code",
      "source": [
        "#Visualize the result\n",
        "df_max_result = pd.DataFrame.from_dict(max_features_result_sheet, orient = \"index\")\n",
        "df_max_result.index.name = \"Max_features\"\n",
        "df_max_result = df_max_result.reset_index()\n",
        "\n",
        "#Reshape the df\n",
        "df_max = pd.melt(df_max_result, id_vars=\"Max_features\", var_name = \"Model\", value_name = \"Accuracy\")\n",
        "\n",
        "#plot graph\n",
        "fig, ax = plt.subplots(figsize=(15,6))\n",
        "sns.barplot(x=\"Model\", y=\"Accuracy\", hue = \"Max_features\", data = df_max)\n",
        "plt.xlabel(\"Models\")\n",
        "plt.ylabel(\"Accuracy Score\")\n",
        "plt.title(\"Each Model Performance on multiple Max_features Value\")\n",
        "plt.legend(loc=\"upper left\", title = \"Max features\");"
      ],
      "metadata": {
        "colab": {
          "base_uri": "https://localhost:8080/",
          "height": 404
        },
        "id": "VU8tsc1x3VlT",
        "outputId": "46845083-f78c-44f2-e7a5-75d5d59fb38e"
      },
      "execution_count": 101,
      "outputs": [
        {
          "output_type": "display_data",
          "data": {
            "text/plain": [
              "<Figure size 1080x432 with 1 Axes>"
            ],
            "image/png": "[encoded data removed]"
          },
          "metadata": {
            "needs_background": "light"
          }
        }
      ]
    },
    {
      "cell_type": "markdown",
      "source": [
        "When the max_features size dropped to 1253 and 253, there was a significant reduction in the performance of Naive Bayes classifier. However, there is insignificant effect on the performance of the logistic regressor."
      ],
      "metadata": {
        "id": "_5q-S8VR5Hys"
      }
    },
    {
      "cell_type": "code",
      "source": [
        "print(\"Exercise 16: Use Brown corpus to train the vectorizer, and rep the BOW. Whats the impact on both model performance.\\n\")\n",
        "\n",
        "#download the brown corpus words\n",
        "nltk.download('brown')"
      ],
      "metadata": {
        "colab": {
          "base_uri": "https://localhost:8080/"
        },
        "id": "K-gpiy5t4Z2k",
        "outputId": "4c046c91-b505-4232-bcdd-ae1520fa2719"
      },
      "execution_count": 3,
      "outputs": [
        {
          "output_type": "stream",
          "name": "stdout",
          "text": [
            "Exercise 16: Use Brown corpus to train the vectorizer, and rep the BOW. Whats the impact on both model performance.\n",
            "\n"
          ]
        },
        {
          "output_type": "stream",
          "name": "stderr",
          "text": [
            "[nltk_data] Downloading package brown to /root/nltk_data...\n",
            "[nltk_data]   Unzipping corpora/brown.zip.\n"
          ]
        },
        {
          "output_type": "execute_result",
          "data": {
            "text/plain": [
              "True"
            ]
          },
          "metadata": {},
          "execution_count": 3
        }
      ]
    },
    {
      "cell_type": "code",
      "source": [
        "#Extract the brown words\n",
        "brown_words = brown.words()\n",
        "\n",
        "#The brown_words are list of cleaned words and they are 1161192 in numbers\n",
        "\n",
        "#Instantiate the countvectorizer\n",
        "cnt_vet = CountVectorizer()\n",
        "\n",
        "#Train it with brown words\n",
        "cnt_vet.fit(brown_words)\n",
        "\n",
        "#Vectorizer my cleaned_message\n",
        "X_vet = cnt_vet.transform(cleaned_message).toarray()\n",
        "y_vet = np.array(labels.to_list())\n",
        "\n",
        "#Split the data\n",
        "X_vet_train, X_vet_test, y_vet_train, y_vet_test = train_test_split(X_vet, y_vet, test_size = 0.3, shuffle=False)\n",
        "\n",
        "vet_result_sheet = {}\n",
        "for model_name, model_instance in models_dict.items():\n",
        "  vet_model = model_instance\n",
        "\n",
        "  vet_model.fit(X_vet_train, y_vet_train)\n",
        "\n",
        "  vet_y_pred = vet_model.predict(X_vet_test)\n",
        "\n",
        "  vet_score = (y_vet_test == vet_y_pred).sum()/len(y_vet_test)\n",
        "  vet_result_sheet[model_name] = round(vet_score, 3)\n",
        "\n",
        "print(vet_result_sheet)"
      ],
      "metadata": {
        "colab": {
          "base_uri": "https://localhost:8080/"
        },
        "id": "A9xHlJ4d7DZm",
        "outputId": "82df4629-e23e-4b70-8d4b-05eb5b2198c8"
      },
      "execution_count": 108,
      "outputs": [
        {
          "output_type": "stream",
          "name": "stdout",
          "text": [
            "{'NB': 0.261, 'lgReg': 0.937}\n"
          ]
        }
      ]
    },
    {
      "cell_type": "code",
      "source": [
        "#Vislualise the result\n",
        "df_model_acc = pd.DataFrame(vet_result_sheet, index=[0])\n",
        "df_model_acc.index.name = \"index\"\n",
        "df_model_acc.plot.bar(rot=0)\n",
        "plt.xlabel(\"Model\")\n",
        "plt.ylabel(\"Accuracy score\")\n",
        "plt.title(\"The performance of both models when the CountVectorizer was trained using Brown words\");"
      ],
      "metadata": {
        "colab": {
          "base_uri": "https://localhost:8080/",
          "height": 295
        },
        "id": "a2wd4cMi7cdF",
        "outputId": "e7dc8abe-ec07-47c5-eacc-46e56d18ec74"
      },
      "execution_count": 109,
      "outputs": [
        {
          "output_type": "display_data",
          "data": {
            "text/plain": [
              "<Figure size 432x288 with 1 Axes>"
            ],
            "image/png": "[encoded data removed]"
          },
          "metadata": {
            "needs_background": "light"
          }
        }
      ]
    },
    {
      "cell_type": "markdown",
      "source": [
        "It affected both model performance, however, the performance of the Naive Bayes dropped significantly than Logistic Regression."
      ],
      "metadata": {
        "id": "51x7D1BCANXh"
      }
    },
    {
      "cell_type": "code",
      "source": [],
      "metadata": {
        "id": "6mBIcv21mA0d"
      },
      "execution_count": null,
      "outputs": []
    }
  ]
}